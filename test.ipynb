{
 "cells": [
  {
   "cell_type": "code",
   "execution_count": 1,
   "metadata": {},
   "outputs": [],
   "source": [
    "import os, sys\n",
    "\n",
    "from audio_to_spectogram import audio_to_spectrogram\n",
    "from sample import extrait_aleatoire"
   ]
  },
  {
   "cell_type": "markdown",
   "metadata": {},
   "source": [
    "### Récupérer les extraits aléatoires de 30s"
   ]
  },
  {
   "cell_type": "code",
   "execution_count": 8,
   "metadata": {},
   "outputs": [],
   "source": [
    "blues_path = os.path.join(os.getcwd(), \"blues\")\n",
    "\n",
    "duree_extrait = 30 * 1000\n",
    "\n",
    "\n",
    "extrait = extrait_aleatoire(fichier_mp3=os.path.join(blues_path, os.listdir(blues_path)[0]), duree_extrait=duree_extrait)"
   ]
  },
  {
   "cell_type": "code",
   "execution_count": 9,
   "metadata": {},
   "outputs": [
    {
     "data": {
      "text/plain": [
       "<_io.BufferedRandom name='/home/baba/Bureau/ProjetIA/blues_extraits/Bring It On Home.mp3'>"
      ]
     },
     "execution_count": 9,
     "metadata": {},
     "output_type": "execute_result"
    }
   ],
   "source": [
    "extrait.export(os.path.join(os.getcwd(), \"blues_extraits\", os.listdir(blues_path)[0]), format=\"mp3\")"
   ]
  },
  {
   "cell_type": "markdown",
   "metadata": {},
   "source": [
    "### Récupérer le spectogramme"
   ]
  },
  {
   "cell_type": "code",
   "execution_count": null,
   "metadata": {},
   "outputs": [],
   "source": [
    "spectro_path = os.path.join(os.getcwd(), \"spectogrammes\")"
   ]
  },
  {
   "cell_type": "code",
   "execution_count": 18,
   "metadata": {},
   "outputs": [],
   "source": [
    "for sound in os.listdir(blues_path):\n",
    "\n",
    "    audio_to_spectrogram(os.path.join(blues_path, sound), os.path.join(spectro_path, sound+'.png'), duration=154)"
   ]
  }
 ],
 "metadata": {
  "kernelspec": {
   "display_name": "base",
   "language": "python",
   "name": "python3"
  },
  "language_info": {
   "codemirror_mode": {
    "name": "ipython",
    "version": 3
   },
   "file_extension": ".py",
   "mimetype": "text/x-python",
   "name": "python",
   "nbconvert_exporter": "python",
   "pygments_lexer": "ipython3",
   "version": "3.10.13"
  }
 },
 "nbformat": 4,
 "nbformat_minor": 2
}
