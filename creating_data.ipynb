{
 "cells": [
  {
   "cell_type": "code",
   "execution_count": 1,
   "metadata": {},
   "outputs": [],
   "source": [
    "import sys, os\n",
    "\n",
    "import pandas as pd\n",
    "import numpy as np\n",
    "\n",
    "from sklearn.model_selection import train_test_split\n",
    "\n",
    "from general_tools import audio_to_spectrogram, extrait_aleatoire, rename_sounds, copy_paste"
   ]
  },
  {
   "cell_type": "markdown",
   "metadata": {},
   "source": [
    "### Récupérer les extraits aléatoires de 15s"
   ]
  },
  {
   "cell_type": "code",
   "execution_count": 2,
   "metadata": {},
   "outputs": [],
   "source": [
    "blues_path = os.path.join(os.getcwd(), \"blues\")\n",
    "classique_path = os.path.join(os.getcwd(), \"classique\")\n",
    "electro_path = os.path.join(os.getcwd(), \"electro\")\n",
    "hardrock_path = os.path.join(os.getcwd(), \"hardrock\")\n",
    "techno_path = os.path.join(os.getcwd(), \"techno\")\n",
    "jazz_path = os.path.join(os.getcwd(), \"jazz\")\n",
    "discofs_path = os.path.join(os.getcwd(), \"discofs\")\n",
    "\n",
    "#classique_path = os.path.join(os.getcwd(), \"classique\")\n",
    "#classique_path = os.path.join(os.getcwd(), \"classique\")\n",
    "#classique_path = os.path.join(os.getcwd(), \"classique\")"
   ]
  },
  {
   "cell_type": "code",
   "execution_count": 3,
   "metadata": {},
   "outputs": [],
   "source": [
    "#rename_sounds(\"hardrock\")"
   ]
  },
  {
   "cell_type": "code",
   "execution_count": 4,
   "metadata": {},
   "outputs": [],
   "source": [
    "# 5 extraits de 15 sec\n",
    "\n",
    "#duree_extrait = 15 * 1000\n",
    "#nbr_extraits = 5\n",
    "\n",
    "#for sound in os.listdir(electro_path):\n",
    "\n",
    "#    for n in range(nbr_extraits):\n",
    "\n",
    "#        extrait = extrait_aleatoire(fichier_mp3=os.path.join(electro_path, sound), duree_extrait=duree_extrait)\n",
    "#        extrait.export(os.path.join(os.getcwd(), \"electro_extraits\", f\"extrait {n} {sound}\"), format=\"mp3\")"
   ]
  },
  {
   "cell_type": "markdown",
   "metadata": {},
   "source": [
    "### Création train set / test set & labelisation "
   ]
  },
  {
   "cell_type": "code",
   "execution_count": 5,
   "metadata": {},
   "outputs": [],
   "source": [
    "spectro_path = os.path.join(os.getcwd(), \"spectogrammes\")\n",
    "\n",
    "extraits_blues_path = os.path.join(os.getcwd(), \"blues_extraits\")\n",
    "extraits_classique_path = os.path.join(os.getcwd(), \"classique_extraits\")\n",
    "extraits_electro_path = os.path.join(os.getcwd(), \"electro_extraits\")\n",
    "extraits_hardrock_path = os.path.join(os.getcwd(), \"hardrock_extraits\")\n",
    "extraits_techno_path = os.path.join(os.getcwd(), \"techno_extraits\")\n",
    "extraits_jazz_path = os.path.join(os.getcwd(), \"jazz_extraits\")\n",
    "extraits_discofs_path = os.path.join(os.getcwd(), \"discofs_extraits\")\n",
    "\n",
    "#extraits_classique_path = os.path.join(os.getcwd(), \"classique_extraits\")\n",
    "#extraits_classique_path = os.path.join(os.getcwd(), \"classique_extraits\")\n",
    "#extraits_classique_path = os.path.join(os.getcwd(), \"classique_extraits\")"
   ]
  },
  {
   "cell_type": "markdown",
   "metadata": {},
   "source": [
    "##### Labelisation"
   ]
  },
  {
   "cell_type": "code",
   "execution_count": 6,
   "metadata": {},
   "outputs": [
    {
     "name": "stderr",
     "output_type": "stream",
     "text": [
      "/tmp/ipykernel_13176/3230694021.py:10: FutureWarning: The behavior of DataFrame concatenation with empty or all-NA entries is deprecated. In a future version, this will no longer exclude empty or all-NA columns when determining the result dtypes. To retain the old behavior, exclude the relevant entries before the concat operation.\n",
      "  df_data = pd.concat([df_data, df_data_tmp])\n"
     ]
    }
   ],
   "source": [
    "df_data = pd.DataFrame(columns=[\"name\", \"label\"])\n",
    "df_data_tmp = df_data.copy(deep=True)\n",
    "\n",
    "for (i, extraits_register_path) in enumerate([extraits_blues_path, extraits_classique_path, extraits_electro_path, extraits_hardrock_path, extraits_techno_path, extraits_jazz_path,\n",
    "                               extraits_discofs_path]):\n",
    "\n",
    "    df_data_tmp[\"name\"] = os.listdir(extraits_register_path)\n",
    "    df_data_tmp[\"label\"] = np.ones(len(os.listdir(extraits_register_path))) * i\n",
    "\n",
    "    df_data = pd.concat([df_data, df_data_tmp])\n",
    "\n",
    "df_data[\"label\"] = df_data[\"label\"].astype(int)"
   ]
  },
  {
   "cell_type": "code",
   "execution_count": 7,
   "metadata": {},
   "outputs": [],
   "source": [
    "dic_label = {\"blues\": 0, \"classique\": 1, \"electro\": 2, \"hardrock\": 3, \"techno\": 4, \"jazz\": 5, \"discofs\": 6}\n",
    "\n",
    "registers = list(dic_label.keys())\n",
    "labels = list(dic_label.values())"
   ]
  },
  {
   "cell_type": "markdown",
   "metadata": {},
   "source": [
    "##### Création des spectogrammes"
   ]
  },
  {
   "cell_type": "code",
   "execution_count": 6,
   "metadata": {},
   "outputs": [
    {
     "name": "stdout",
     "output_type": "stream",
     "text": [
      "début spectro_path_size /home/baba/Bureau/ProjetIA/blues_extraits = 0\n",
      "fin spectro_path_size /home/baba/Bureau/ProjetIA/blues_extraits = 500\n",
      "début spectro_path_size /home/baba/Bureau/ProjetIA/classique_extraits = 500\n",
      "fin spectro_path_size /home/baba/Bureau/ProjetIA/classique_extraits = 1000\n",
      "début spectro_path_size /home/baba/Bureau/ProjetIA/electro_extraits = 1000\n",
      "fin spectro_path_size /home/baba/Bureau/ProjetIA/electro_extraits = 1500\n",
      "début spectro_path_size /home/baba/Bureau/ProjetIA/hardrock_extraits = 1500\n",
      "fin spectro_path_size /home/baba/Bureau/ProjetIA/hardrock_extraits = 2000\n",
      "début spectro_path_size /home/baba/Bureau/ProjetIA/techno_extraits = 2000\n",
      "fin spectro_path_size /home/baba/Bureau/ProjetIA/techno_extraits = 2500\n",
      "début spectro_path_size /home/baba/Bureau/ProjetIA/jazz_extraits = 2500\n",
      "fin spectro_path_size /home/baba/Bureau/ProjetIA/jazz_extraits = 3000\n",
      "début spectro_path_size /home/baba/Bureau/ProjetIA/discofs_extraits = 3000\n",
      "fin spectro_path_size /home/baba/Bureau/ProjetIA/discofs_extraits = 3500\n"
     ]
    }
   ],
   "source": [
    "old_size, new_size = 0, 0\n",
    "\n",
    "for (i, extraits_register_path) in enumerate([extraits_blues_path, extraits_classique_path, extraits_electro_path, extraits_hardrock_path, extraits_techno_path, extraits_jazz_path,\n",
    "                               extraits_discofs_path]):\n",
    "\n",
    "    print(f\"début spectro_path_size {extraits_register_path} = {len(os.listdir(spectro_path))}\")\n",
    "\n",
    "    for sound in os.listdir(extraits_register_path):\n",
    "\n",
    "        audio_to_spectrogram(os.path.join(extraits_register_path, sound), os.path.join(spectro_path, sound+'.png'), duration=15)\n",
    "\n",
    "        new_size = len(os.listdir(spectro_path))\n",
    "\n",
    "        if new_size == old_size:\n",
    "            print(sound)\n",
    "\n",
    "        old_size = len(os.listdir(spectro_path))\n",
    "    \n",
    "    print(f\"fin spectro_path_size {extraits_register_path} = {len(os.listdir(spectro_path))}\")"
   ]
  },
  {
   "cell_type": "code",
   "execution_count": 8,
   "metadata": {},
   "outputs": [],
   "source": [
    "df_data[\"name\"] += \".png\""
   ]
  },
  {
   "cell_type": "markdown",
   "metadata": {},
   "source": [
    "##### Split des data / création .csv"
   ]
  },
  {
   "cell_type": "code",
   "execution_count": 9,
   "metadata": {},
   "outputs": [
    {
     "data": {
      "text/plain": [
       "(400, 100)"
      ]
     },
     "execution_count": 9,
     "metadata": {},
     "output_type": "execute_result"
    }
   ],
   "source": [
    "train_size = int(0.8*500)\n",
    "test_size = int(0.2*500)\n",
    "\n",
    "train_size, test_size"
   ]
  },
  {
   "cell_type": "code",
   "execution_count": 10,
   "metadata": {},
   "outputs": [
    {
     "name": "stdout",
     "output_type": "stream",
     "text": [
      "Il y a 400 audios de label 0\n",
      "Il y a 400 audios de label 1\n",
      "Il y a 400 audios de label 2\n",
      "Il y a 400 audios de label 3\n",
      "Il y a 400 audios de label 4\n",
      "Il y a 400 audios de label 5\n",
      "Il y a 400 audios de label 6\n"
     ]
    }
   ],
   "source": [
    "X_train = pd.Series(dtype=object)\n",
    "\n",
    "sizetmp_xtrain = 0\n",
    "\n",
    "oui = None\n",
    "\n",
    "for (k, num_label) in enumerate(labels):\n",
    "    df_data_labels = df_data.loc[df_data[\"label\"] == num_label].sort_values(by=\"name\")\n",
    "\n",
    "    for (i, sound) in enumerate(df_data_labels[\"name\"]):\n",
    "        if sound[:10].__contains__(\"extrait 0\"):\n",
    "            X_train = pd.concat([X_train, df_data[df_data[\"name\"].apply(lambda x: sound[10:] in str(x))][\"name\"]])\n",
    "            X_train = pd.Series(X_train.unique())\n",
    "            \n",
    "\n",
    "            if len(X_train) % train_size == 0:\n",
    "                print(f\"Il y a {len(X_train) - sizetmp_xtrain} audios de label {num_label}\")\n",
    "                sizetmp_xtrain=len(X_train)\n",
    "                break\n",
    "\n",
    "X_test = np.setdiff1d(df_data[\"name\"].values, X_train)\n",
    "X_test = pd.Series(X_test)\n",
    "\n",
    "X_train = X_train.reset_index(drop=True)\n",
    "X_test = X_test.reset_index(drop=True)"
   ]
  },
  {
   "cell_type": "code",
   "execution_count": 27,
   "metadata": {},
   "outputs": [],
   "source": [
    "path_to_train = os.path.join(os.getcwd(), \"data_train\")\n",
    "path_to_test = os.path.join(os.getcwd(), \"data_test\")\n",
    "\n",
    "for sound_train in X_train:\n",
    "    copy_paste(source_path=os.path.join(spectro_path, sound_train), destination_path=os.path.join(path_to_train, sound_train))\n",
    "\n",
    "for sound_test in X_test:\n",
    "    copy_paste(source_path=os.path.join(spectro_path, sound_test), destination_path=os.path.join(path_to_test, sound_test))"
   ]
  },
  {
   "cell_type": "code",
   "execution_count": 12,
   "metadata": {},
   "outputs": [],
   "source": [
    "df_data.loc[df_data[\"name\"].isin(X_train)].to_csv(\"train.csv\", index=False)"
   ]
  }
 ],
 "metadata": {
  "kernelspec": {
   "display_name": "base",
   "language": "python",
   "name": "python3"
  },
  "language_info": {
   "codemirror_mode": {
    "name": "ipython",
    "version": 3
   },
   "file_extension": ".py",
   "mimetype": "text/x-python",
   "name": "python",
   "nbconvert_exporter": "python",
   "pygments_lexer": "ipython3",
   "version": "3.10.13"
  }
 },
 "nbformat": 4,
 "nbformat_minor": 2
}
